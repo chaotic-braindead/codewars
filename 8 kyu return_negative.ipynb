{
 "cells": [
  {
   "cell_type": "code",
   "execution_count": 1,
   "id": "d3dcdb7b",
   "metadata": {},
   "outputs": [
    {
     "data": {
      "text/plain": [
       "'In this simple assignment you are given a number and have to make it negative. But maybe the number is already negative?\\n\\nmake_negative(1);  # return -1\\nmake_negative(-5); # return -5\\nmake_negative(0);  # return 0\\n\\n'"
      ]
     },
     "execution_count": 1,
     "metadata": {},
     "output_type": "execute_result"
    }
   ],
   "source": [
    "\"\"\"In this simple assignment you are given a number and have to make it negative. But maybe the number is already negative?\n",
    "\n",
    "make_negative(1);  # return -1\n",
    "make_negative(-5); # return -5\n",
    "make_negative(0);  # return 0\n",
    "\n",
    "\n",
    "The number can be negative already, in which case no change is required.\n",
    "Zero (0) is not checked for any specific sign. Negative zeros make no mathematical sense.\n",
    "\n",
    "\"\"\""
   ]
  },
  {
   "cell_type": "code",
   "execution_count": 9,
   "id": "90c743a5",
   "metadata": {},
   "outputs": [],
   "source": [
    "def make_negative( number ):\n",
    "    return -abs(number)"
   ]
  },
  {
   "cell_type": "code",
   "execution_count": 11,
   "id": "a7e7ea04",
   "metadata": {},
   "outputs": [
    {
     "data": {
      "text/plain": [
       "-1"
      ]
     },
     "execution_count": 11,
     "metadata": {},
     "output_type": "execute_result"
    }
   ],
   "source": [
    "make_negative(-1)"
   ]
  },
  {
   "cell_type": "code",
   "execution_count": null,
   "id": "35eca950",
   "metadata": {},
   "outputs": [],
   "source": []
  }
 ],
 "metadata": {
  "kernelspec": {
   "display_name": "Python 3 (ipykernel)",
   "language": "python",
   "name": "python3"
  },
  "language_info": {
   "codemirror_mode": {
    "name": "ipython",
    "version": 3
   },
   "file_extension": ".py",
   "mimetype": "text/x-python",
   "name": "python",
   "nbconvert_exporter": "python",
   "pygments_lexer": "ipython3",
   "version": "3.9.7"
  }
 },
 "nbformat": 4,
 "nbformat_minor": 5
}
