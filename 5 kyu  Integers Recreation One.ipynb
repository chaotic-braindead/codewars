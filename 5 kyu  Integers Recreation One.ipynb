{
 "cells": [
  {
   "cell_type": "markdown",
   "id": "bf37e18f",
   "metadata": {},
   "source": [
    "### 1, 246, 2, 123, 3, 82, 6, 41 are the divisors of number 246. Squaring these divisors we get: 1, 60516, 4, 15129, 9, 6724, 36, 1681. The sum of these squares is 84100 which is 290 * 290.\n",
    "\n",
    "## Task\n",
    "\n",
    "### Find all integers between m and n (m and n integers with 1 <= m <= n) such that the sum of their squared divisors is itself a square.\n",
    "\n",
    "#### We will return an array of subarrays or of tuples (in C an array of Pair) or a string. The subarrays (or tuples or Pairs) will have two elements: first the number the squared divisors of which is a square and then the sum of the squared divisors.\n",
    "Example:\n",
    "\n",
    "list_squared(1, 250) --> [[1, 1], [42, 2500], [246, 84100]]\n",
    "list_squared(42, 250) --> [[42, 2500], [246, 84100]]\n"
   ]
  },
  {
   "cell_type": "code",
   "execution_count": 4,
   "id": "f0eaa169",
   "metadata": {},
   "outputs": [],
   "source": [
    "# my solution (execution timed out, but logic is correct)\n",
    "import math\n",
    "def get_divisors(n):\n",
    "    divisors = sum([j**2 for j in range(1, n+1) if n%j == 0])\n",
    "    return divisors\n",
    "    \n",
    "def list_squared(m, n):\n",
    "    lst = [[i, get_divisors(i)] for i in range(m, n+1) if math.sqrt(get_divisors(i)).is_integer()]\n",
    "    return lst"
   ]
  },
  {
   "cell_type": "code",
   "execution_count": 8,
   "id": "59f432a2",
   "metadata": {},
   "outputs": [
    {
     "data": {
      "text/plain": [
       "[[287, 84100]]"
      ]
     },
     "execution_count": 8,
     "metadata": {},
     "output_type": "execute_result"
    }
   ],
   "source": [
    "list_squared(250, 500)"
   ]
  },
  {
   "cell_type": "code",
   "execution_count": 9,
   "id": "68750ba7",
   "metadata": {},
   "outputs": [],
   "source": [
    "# optimal solution \n",
    "import math\n",
    "def get_divisors(n):\n",
    "    divisors = set()\n",
    "    for j in range(1, int(math.sqrt(n)+1)):\n",
    "        if n % j == 0:\n",
    "            divisors.add(j**2)\n",
    "            divisors.add(int(n/j)**2)\n",
    "    result = sum(divisors)\n",
    "    return result\n",
    "\n",
    "def list_squared(m, n):\n",
    "    lst = [[i, get_divisors(i)] for i in range(m, n+1) if math.sqrt(get_divisors(i)).is_integer()]\n",
    "    return lst"
   ]
  },
  {
   "cell_type": "code",
   "execution_count": 10,
   "id": "8bc6961a",
   "metadata": {},
   "outputs": [
    {
     "data": {
      "text/plain": [
       "[[287, 84100]]"
      ]
     },
     "execution_count": 10,
     "metadata": {},
     "output_type": "execute_result"
    }
   ],
   "source": [
    "list_squared(250, 500)"
   ]
  },
  {
   "cell_type": "code",
   "execution_count": null,
   "id": "81e7c696",
   "metadata": {},
   "outputs": [],
   "source": []
  }
 ],
 "metadata": {
  "kernelspec": {
   "display_name": "Python 3 (ipykernel)",
   "language": "python",
   "name": "python3"
  },
  "language_info": {
   "codemirror_mode": {
    "name": "ipython",
    "version": 3
   },
   "file_extension": ".py",
   "mimetype": "text/x-python",
   "name": "python",
   "nbconvert_exporter": "python",
   "pygments_lexer": "ipython3",
   "version": "3.9.7"
  }
 },
 "nbformat": 4,
 "nbformat_minor": 5
}
