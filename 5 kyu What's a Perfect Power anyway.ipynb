{
 "cells": [
  {
   "cell_type": "markdown",
   "id": "226d84b3",
   "metadata": {},
   "source": [
    "    In mathematics, a perfect power is a positive integer that can be expressed as an integer power of another positive integer. More formally, n is a perfect power if there exist natural numbers m > 1, and k > 1 such that mk = n.\n",
    "\n",
    "Your task is to check wheter a given integer is a perfect power. If it is a perfect power, return a pair m and k with mk = n as a proof. Otherwise return Nothing, Nil, null, NULL, None or your language's equivalent.\n",
    "\n",
    "Note: For a perfect power, there might be several pairs. For example 81 = 3^4 = 9^2, so (3,4) and (9,2) are valid solutions. However, the tests take care of this, so if a number is a perfect power, return any pair that proves it.\n",
    "Examples\n",
    "\n",
    "isPP(4) => [2,2]\n",
    "isPP(9) => [3,2]\n",
    "isPP(5) => None\n"
   ]
  },
  {
   "cell_type": "code",
   "execution_count": 1,
   "id": "42434a42",
   "metadata": {},
   "outputs": [],
   "source": [
    "from math import sqrt, log, ceil\n",
    "def isPP(n):\n",
    "    for i in range(2, int(sqrt(n)+1)):\n",
    "        if round(log(n, i), 10).is_integer():\n",
    "            if \"9\" in str(round(log(n, i), 10)):\n",
    "                return [i, ceil(log(n, i))]\n",
    "            return [i, int(round(log(n, i), 10))]\n",
    "    return None"
   ]
  },
  {
   "cell_type": "code",
   "execution_count": 3,
   "id": "f2fc38c8",
   "metadata": {},
   "outputs": [
    {
     "data": {
      "text/plain": [
       "[3, 2]"
      ]
     },
     "execution_count": 3,
     "metadata": {},
     "output_type": "execute_result"
    }
   ],
   "source": [
    "isPP(9)\n"
   ]
  },
  {
   "cell_type": "code",
   "execution_count": 4,
   "id": "baf46ba2",
   "metadata": {},
   "outputs": [
    {
     "data": {
      "text/plain": [
       "[3, 10]"
      ]
     },
     "execution_count": 4,
     "metadata": {},
     "output_type": "execute_result"
    }
   ],
   "source": [
    "isPP(59049)"
   ]
  },
  {
   "cell_type": "code",
   "execution_count": null,
   "id": "a8de40e4",
   "metadata": {},
   "outputs": [],
   "source": []
  }
 ],
 "metadata": {
  "kernelspec": {
   "display_name": "Python 3 (ipykernel)",
   "language": "python",
   "name": "python3"
  },
  "language_info": {
   "codemirror_mode": {
    "name": "ipython",
    "version": 3
   },
   "file_extension": ".py",
   "mimetype": "text/x-python",
   "name": "python",
   "nbconvert_exporter": "python",
   "pygments_lexer": "ipython3",
   "version": "3.9.7"
  }
 },
 "nbformat": 4,
 "nbformat_minor": 5
}
