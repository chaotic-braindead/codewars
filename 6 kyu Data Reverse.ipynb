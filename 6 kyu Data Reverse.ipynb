{
 "cells": [
  {
   "cell_type": "markdown",
   "id": "ec093303",
   "metadata": {},
   "source": [
    "A stream of data is received and needs to be reversed.\n",
    "\n",
    "Each segment is 8 bits long, meaning the order of these segments needs to be reversed, for example:\n",
    "\n",
    "11111111  00000000  00001111  10101010\n",
    " (byte1)   (byte2)   (byte3)   (byte4)\n",
    "\n",
    "should become:\n",
    "\n",
    "10101010  00001111  00000000  11111111\n",
    " (byte4)   (byte3)   (byte2)   (byte1)\n",
    "\n",
    "The total number of bits will always be a multiple of 8.\n",
    "\n",
    "The data is given in an array as such:\n",
    "\n",
    "[1,1,1,1,1,1,1,1,0,0,0,0,0,0,0,0,0,0,0,0,1,1,1,1,1,0,1,0,1,0,1,0]\n",
    "\n",
    "Note: In the C and NASM languages you are given the third parameter which is the number of segment blocks.\n"
   ]
  },
  {
   "cell_type": "code",
   "execution_count": 1,
   "id": "d48ce5b1",
   "metadata": {},
   "outputs": [],
   "source": [
    "def data_reverse(data):\n",
    "    data = \"\".join([str(i)[:8] for i in data])\n",
    "    lst = [data[i:i+8] for i in range(len(data)) if i % 8 == 0][::-1]\n",
    "    res = [int(j) for i in lst for j in i]\n",
    "    return res"
   ]
  },
  {
   "cell_type": "code",
   "execution_count": 2,
   "id": "20e7791b",
   "metadata": {},
   "outputs": [
    {
     "data": {
      "text/plain": [
       "[1,\n",
       " 0,\n",
       " 1,\n",
       " 0,\n",
       " 1,\n",
       " 0,\n",
       " 1,\n",
       " 0,\n",
       " 0,\n",
       " 0,\n",
       " 0,\n",
       " 0,\n",
       " 1,\n",
       " 1,\n",
       " 1,\n",
       " 1,\n",
       " 0,\n",
       " 0,\n",
       " 0,\n",
       " 0,\n",
       " 0,\n",
       " 0,\n",
       " 0,\n",
       " 0,\n",
       " 1,\n",
       " 1,\n",
       " 1,\n",
       " 1,\n",
       " 1,\n",
       " 1,\n",
       " 1,\n",
       " 1]"
      ]
     },
     "execution_count": 2,
     "metadata": {},
     "output_type": "execute_result"
    }
   ],
   "source": [
    "data_reverse([1,1,1,1,1,1,1,1,0,0,0,0,0,0,0,0,0,0,0,0,1,1,1,1,1,0,1,0,1,0,1,0])"
   ]
  },
  {
   "cell_type": "code",
   "execution_count": null,
   "id": "0ca67602",
   "metadata": {},
   "outputs": [],
   "source": []
  }
 ],
 "metadata": {
  "kernelspec": {
   "display_name": "Python 3 (ipykernel)",
   "language": "python",
   "name": "python3"
  },
  "language_info": {
   "codemirror_mode": {
    "name": "ipython",
    "version": 3
   },
   "file_extension": ".py",
   "mimetype": "text/x-python",
   "name": "python",
   "nbconvert_exporter": "python",
   "pygments_lexer": "ipython3",
   "version": "3.9.7"
  }
 },
 "nbformat": 4,
 "nbformat_minor": 5
}
