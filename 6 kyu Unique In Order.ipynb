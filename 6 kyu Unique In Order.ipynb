{
 "cells": [
  {
   "cell_type": "markdown",
   "id": "89f4e90c",
   "metadata": {},
   "source": [
    "Implement the function unique_in_order which takes as argument a sequence and returns a list of items without any elements with the same value next to each other and preserving the original order of elements.\n",
    "\n",
    "For example:\n",
    "\n",
    "unique_in_order('AAAABBBCCDAABBB') == ['A', 'B', 'C', 'D', 'A', 'B']\n",
    "unique_in_order('ABBCcAD')         == ['A', 'B', 'C', 'c', 'A', 'D']\n",
    "unique_in_order([1,2,2,3,3])       == [1,2,3]\n"
   ]
  },
  {
   "cell_type": "code",
   "execution_count": 2,
   "id": "91f70a82",
   "metadata": {},
   "outputs": [],
   "source": [
    "# my past solution \n",
    "def unique_in_order(iterable):\n",
    "    if iterable:\n",
    "        lst = [iterable[i] for i in range(len(iterable)) if i != len(iterable)-1 and iterable[i] != iterable[i+1]]\n",
    "        lst.append(iterable[-1])\n",
    "        return lst\n",
    "    return []"
   ]
  },
  {
   "cell_type": "code",
   "execution_count": 3,
   "id": "3a9771ea",
   "metadata": {},
   "outputs": [],
   "source": [
    "# the solution i came up with today (worse than the first one imo)\n",
    "def unique_in_order(iterable):\n",
    "    iterable_copy = []\n",
    "    for index, item in enumerate(iterable):\n",
    "        if index != len(iterable)-1:\n",
    "            if iterable[index+1] != item:\n",
    "                iterable_copy.append(item)\n",
    "        else:\n",
    "            iterable_copy.append(item)\n",
    "    return iterable_copy"
   ]
  },
  {
   "cell_type": "code",
   "execution_count": 4,
   "id": "24509216",
   "metadata": {},
   "outputs": [],
   "source": [
    "# best solution\n",
    "def unique_in_order(iterable):\n",
    "    result = []\n",
    "    prev = None\n",
    "    for char in iterable[0:]:\n",
    "        if char != prev:\n",
    "            result.append(char)\n",
    "            prev = char\n",
    "    return result"
   ]
  },
  {
   "cell_type": "code",
   "execution_count": null,
   "id": "caff8f09",
   "metadata": {},
   "outputs": [],
   "source": []
  }
 ],
 "metadata": {
  "kernelspec": {
   "display_name": "Python 3 (ipykernel)",
   "language": "python",
   "name": "python3"
  },
  "language_info": {
   "codemirror_mode": {
    "name": "ipython",
    "version": 3
   },
   "file_extension": ".py",
   "mimetype": "text/x-python",
   "name": "python",
   "nbconvert_exporter": "python",
   "pygments_lexer": "ipython3",
   "version": "3.9.7"
  }
 },
 "nbformat": 4,
 "nbformat_minor": 5
}
