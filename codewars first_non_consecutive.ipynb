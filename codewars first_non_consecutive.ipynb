{
 "cells": [
  {
   "cell_type": "code",
   "execution_count": 1,
   "id": "a1594743",
   "metadata": {},
   "outputs": [],
   "source": [
    "# Your task is to find the first element of an array that is not consecutive.\n",
    "\n",
    "# By not consecutive we mean not exactly 1 larger than the previous element of the array.\n",
    "\n",
    "# E.g. If we have an array [1,2,3,4,6,7,8] then 1 then 2 then 3 then 4 are all consecutive but 6 is not, so that's the first non-consecutive number.\n",
    "\n",
    "# If the whole array is consecutive then return null2."
   ]
  },
  {
   "cell_type": "code",
   "execution_count": 22,
   "id": "073d736f",
   "metadata": {},
   "outputs": [],
   "source": [
    "def first_non_consecutive(arr):\n",
    "    for i in range(arr[0], arr[-1]+1):\n",
    "        if i not in arr:\n",
    "            return i+1"
   ]
  },
  {
   "cell_type": "code",
   "execution_count": 23,
   "id": "d7ee827c",
   "metadata": {},
   "outputs": [
    {
     "data": {
      "text/plain": [
       "6"
      ]
     },
     "execution_count": 23,
     "metadata": {},
     "output_type": "execute_result"
    }
   ],
   "source": [
    "first_non_consecutive([1,2,3,4,6,7,8])"
   ]
  }
 ],
 "metadata": {
  "kernelspec": {
   "display_name": "Python 3 (ipykernel)",
   "language": "python",
   "name": "python3"
  },
  "language_info": {
   "codemirror_mode": {
    "name": "ipython",
    "version": 3
   },
   "file_extension": ".py",
   "mimetype": "text/x-python",
   "name": "python",
   "nbconvert_exporter": "python",
   "pygments_lexer": "ipython3",
   "version": "3.9.7"
  }
 },
 "nbformat": 4,
 "nbformat_minor": 5
}
