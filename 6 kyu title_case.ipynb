{
 "cells": [
  {
   "cell_type": "code",
   "execution_count": 40,
   "id": "59085dd2",
   "metadata": {},
   "outputs": [],
   "source": [
    "def title_case(title, minor_words=''):\n",
    "    lst = []\n",
    "    for index, value in enumerate(title.split()):\n",
    "        if index == 0:\n",
    "            lst.append(value.capitalize())\n",
    "        elif value.lower() in minor_words.lower().split():\n",
    "            lst.append(value.lower())\n",
    "        else:\n",
    "            value[0].upper()\n",
    "            lst.append(value.capitalize())\n",
    "    return \" \".join(lst)"
   ]
  },
  {
   "cell_type": "code",
   "execution_count": 41,
   "id": "bc9d969a",
   "metadata": {},
   "outputs": [
    {
     "data": {
      "text/plain": [
       "'First a of In'"
      ]
     },
     "execution_count": 41,
     "metadata": {},
     "output_type": "execute_result"
    }
   ],
   "source": [
    "title_case('First A Of in', 'a of into')"
   ]
  },
  {
   "cell_type": "code",
   "execution_count": null,
   "id": "9fb1c92e",
   "metadata": {},
   "outputs": [],
   "source": []
  }
 ],
 "metadata": {
  "kernelspec": {
   "display_name": "Python 3 (ipykernel)",
   "language": "python",
   "name": "python3"
  },
  "language_info": {
   "codemirror_mode": {
    "name": "ipython",
    "version": 3
   },
   "file_extension": ".py",
   "mimetype": "text/x-python",
   "name": "python",
   "nbconvert_exporter": "python",
   "pygments_lexer": "ipython3",
   "version": "3.9.7"
  }
 },
 "nbformat": 4,
 "nbformat_minor": 5
}
