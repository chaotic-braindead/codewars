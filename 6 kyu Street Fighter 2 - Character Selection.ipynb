{
 "cells": [
  {
   "cell_type": "code",
   "execution_count": 1,
   "id": "d5ef1c6e",
   "metadata": {},
   "outputs": [
    {
     "ename": "SyntaxError",
     "evalue": "invalid syntax (Temp/ipykernel_1100/3921749419.py, line 3)",
     "output_type": "error",
     "traceback": [
      "\u001b[1;36m  File \u001b[1;32m\"C:\\Users\\raf\\AppData\\Local\\Temp/ipykernel_1100/3921749419.py\"\u001b[1;36m, line \u001b[1;32m3\u001b[0m\n\u001b[1;33m    For this easy version the fighters grid layout and the initial position will always be the same in all tests, only the list of moves change.\u001b[0m\n\u001b[1;37m        ^\u001b[0m\n\u001b[1;31mSyntaxError\u001b[0m\u001b[1;31m:\u001b[0m invalid syntax\n"
     ]
    }
   ],
   "source": [
    "Test\n",
    "\n",
    "For this easy version the fighters grid layout and the initial position will always be the same in all tests, only the list of moves change.\n",
    "\n",
    "Notice: changing some of the input data might not help you.\n",
    "\n",
    "Examples\n",
    "\n",
    "    fighters = [\n",
    "      [\"Ryu\", \"E.Honda\", \"Blanka\", \"Guile\", \"Balrog\", \"Vega\"],\n",
    "      [\"Ken\", \"Chun Li\", \"Zangief\", \"Dhalsim\", \"Sagat\", \"M.Bison\"]\n",
    "    ]\n",
    "    initial_position = (0,0)\n",
    "    moves = ['up', 'left', 'right', 'left', 'left']\n",
    "\n",
    "    then I should get:\n",
    "\n",
    "    ['Ryu', 'Vega', 'Ryu', 'Vega', 'Balrog']\n",
    "\n",
    "    as the characters I've been hovering with the selection cursor during my moves. Notice: Ryu is the first just because it \"fails\" the first up See test cases for more examples.\n",
    "\n",
    "    fighters = [\n",
    "      [\"Ryu\", \"E.Honda\", \"Blanka\", \"Guile\", \"Balrog\", \"Vega\"],\n",
    "      [\"Ken\", \"Chun Li\", \"Zangief\", \"Dhalsim\", \"Sagat\", \"M.Bison\"]\n",
    "    ]\n",
    "    initial_position = (0,0)\n",
    "    moves = ['right', 'down', 'left', 'left', 'left', 'left', 'right']\n",
    "\n",
    "    Result:\n",
    "\n",
    "    ['E.Honda', 'Chun Li', 'Ken', 'M.Bison', 'Sagat', 'Dhalsim', 'Sagat']\n",
    "\n"
   ]
  },
  {
   "cell_type": "code",
   "execution_count": 2,
   "id": "a65fe54e",
   "metadata": {},
   "outputs": [],
   "source": [
    "def street_fighter_selection(fighters, initial_position, moves):\n",
    "    x, y = initial_position\n",
    "    selected = []\n",
    "    for i in moves:\n",
    "        if i == 'up':\n",
    "            if x > 0:\n",
    "                x-=1  \n",
    "            selected.append(fighters[x][y])\n",
    "        if i == 'down':\n",
    "            if x == 0:\n",
    "                x+=1\n",
    "            selected.append(fighters[x][y])\n",
    "        if i == 'left':\n",
    "            if y > -len(fighters[x]):\n",
    "                y-=1\n",
    "            else:\n",
    "                y = 0\n",
    "                y-=1\n",
    "            selected.append(fighters[x][y])\n",
    "        if i == 'right':\n",
    "            if y <= len(fighters[x])-2:\n",
    "                y+=1\n",
    "            else:\n",
    "                y=0\n",
    "            selected.append(fighters[x][y])\n",
    "    return selected"
   ]
  },
  {
   "cell_type": "code",
   "execution_count": 5,
   "id": "2d85172c",
   "metadata": {},
   "outputs": [
    {
     "data": {
      "text/plain": [
       "True"
      ]
     },
     "execution_count": 5,
     "metadata": {},
     "output_type": "execute_result"
    }
   ],
   "source": [
    "fighters = [\n",
    "      [\"Ryu\", \"E.Honda\", \"Blanka\", \"Guile\", \"Balrog\", \"Vega\"],\n",
    "      [\"Ken\", \"Chun Li\", \"Zangief\", \"Dhalsim\", \"Sagat\", \"M.Bison\"]\n",
    "    ]\n",
    "initial_position = (0,0)\n",
    "moves = ['up', 'left', 'right', 'left', 'left']\n",
    "\n",
    "street_fighter_selection(fighters, initial_position, moves) == ['Ryu', 'Vega', 'Ryu', 'Vega', 'Balrog']"
   ]
  },
  {
   "cell_type": "code",
   "execution_count": null,
   "id": "0aff8fed",
   "metadata": {},
   "outputs": [],
   "source": []
  }
 ],
 "metadata": {
  "kernelspec": {
   "display_name": "Python 3 (ipykernel)",
   "language": "python",
   "name": "python3"
  },
  "language_info": {
   "codemirror_mode": {
    "name": "ipython",
    "version": 3
   },
   "file_extension": ".py",
   "mimetype": "text/x-python",
   "name": "python",
   "nbconvert_exporter": "python",
   "pygments_lexer": "ipython3",
   "version": "3.9.7"
  }
 },
 "nbformat": 4,
 "nbformat_minor": 5
}
