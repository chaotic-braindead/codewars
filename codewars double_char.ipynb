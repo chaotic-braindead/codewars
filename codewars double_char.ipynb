{
 "cells": [
  {
   "cell_type": "code",
   "execution_count": 1,
   "id": "041f87b0",
   "metadata": {},
   "outputs": [],
   "source": [
    "# Double Char\n",
    "#Given a string, you have to return a string in which each character (case-sensitive) is repeated once."
   ]
  },
  {
   "cell_type": "code",
   "execution_count": 2,
   "id": "b308edbc",
   "metadata": {},
   "outputs": [],
   "source": [
    "def double_char(s):\n",
    "    return \"\".join([i*2 for i in s])"
   ]
  },
  {
   "cell_type": "code",
   "execution_count": 3,
   "id": "18c4f223",
   "metadata": {},
   "outputs": [
    {
     "data": {
      "text/plain": [
       "'hheelllloo  wwoorrlldd'"
      ]
     },
     "execution_count": 3,
     "metadata": {},
     "output_type": "execute_result"
    }
   ],
   "source": [
    "double_char(\"hello world\")"
   ]
  },
  {
   "cell_type": "code",
   "execution_count": null,
   "id": "43e24885",
   "metadata": {},
   "outputs": [],
   "source": []
  }
 ],
 "metadata": {
  "kernelspec": {
   "display_name": "Python 3 (ipykernel)",
   "language": "python",
   "name": "python3"
  },
  "language_info": {
   "codemirror_mode": {
    "name": "ipython",
    "version": 3
   },
   "file_extension": ".py",
   "mimetype": "text/x-python",
   "name": "python",
   "nbconvert_exporter": "python",
   "pygments_lexer": "ipython3",
   "version": "3.9.7"
  }
 },
 "nbformat": 4,
 "nbformat_minor": 5
}
