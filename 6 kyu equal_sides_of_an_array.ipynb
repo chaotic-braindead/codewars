{
 "cells": [
  {
   "cell_type": "code",
   "execution_count": 1,
   "id": "de2210d2",
   "metadata": {},
   "outputs": [
    {
     "data": {
      "text/plain": [
       "'You are going to be given an array of integers. Your job is to take that array and find an index N where the\\nsum of the integers to the left of N is equal to the sum of the integers to the right of N.\\nIf there is no index that would make this happen, return -1.'"
      ]
     },
     "execution_count": 1,
     "metadata": {},
     "output_type": "execute_result"
    }
   ],
   "source": [
    "\"\"\"You are going to be given an array of integers. Your job is to take that array and find an index N where the\n",
    "sum of the integers to the left of N is equal to the sum of the integers to the right of N.\n",
    "If there is no index that would make this happen, return -1.\"\"\""
   ]
  },
  {
   "cell_type": "code",
   "execution_count": 21,
   "id": "25a982fd",
   "metadata": {},
   "outputs": [],
   "source": [
    "def find_even_index(arr):\n",
    "    for i in range(len(arr)):\n",
    "        if sum(arr[:i+1]) == sum(arr[i:]):\n",
    "            return i\n",
    "    return -1"
   ]
  },
  {
   "cell_type": "code",
   "execution_count": 22,
   "id": "95036603",
   "metadata": {},
   "outputs": [
    {
     "data": {
      "text/plain": [
       "3"
      ]
     },
     "execution_count": 22,
     "metadata": {},
     "output_type": "execute_result"
    }
   ],
   "source": [
    "find_even_index([1,2,3,4,3,2,1])"
   ]
  },
  {
   "cell_type": "code",
   "execution_count": null,
   "id": "bcb19a4e",
   "metadata": {},
   "outputs": [],
   "source": []
  }
 ],
 "metadata": {
  "kernelspec": {
   "display_name": "Python 3 (ipykernel)",
   "language": "python",
   "name": "python3"
  },
  "language_info": {
   "codemirror_mode": {
    "name": "ipython",
    "version": 3
   },
   "file_extension": ".py",
   "mimetype": "text/x-python",
   "name": "python",
   "nbconvert_exporter": "python",
   "pygments_lexer": "ipython3",
   "version": "3.9.7"
  }
 },
 "nbformat": 4,
 "nbformat_minor": 5
}
