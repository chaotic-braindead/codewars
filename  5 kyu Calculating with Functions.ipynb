{
 "cells": [
  {
   "cell_type": "markdown",
   "id": "c4e37d5d",
   "metadata": {},
   "source": [
    "This time we want to write calculations using functions and get the results. Let's have a look at some examples:\n",
    "\n",
    "seven(times(five())) # must return 35\n",
    "four(plus(nine())) # must return 13\n",
    "eight(minus(three())) # must return 5\n",
    "six(divided_by(two())) # must return 3\n",
    "\n",
    "Requirements:\n",
    "\n",
    "    There must be a function for each number from 0 (\"zero\") to 9 (\"nine\")\n",
    "    There must be a function for each of the following mathematical operations: plus, minus, times, divided_by\n",
    "    Each calculation consist of exactly one operation and two numbers\n",
    "    The most outer function represents the left operand, the most inner function represents the right operand\n",
    "    Division should be integer division. For example, this should return 2, not 2.666666...:\n"
   ]
  },
  {
   "cell_type": "code",
   "execution_count": 1,
   "id": "f037498d",
   "metadata": {},
   "outputs": [],
   "source": [
    "def zero(operator=None): return 0 if not operator else operator(0)\n",
    "def one(operator=None): return 1 if not operator else operator(1)\n",
    "def two(operator=None): return 2 if not operator else operator(2)\n",
    "def three(operator=None): return 3 if not operator else operator(3)\n",
    "def four(operator=None): return 4 if not operator else operator(4)\n",
    "def five(operator=None): return 5 if not operator else operator(5)\n",
    "def six(operator=None): return 6 if not operator else operator(6)\n",
    "def seven(operator=None): return 7 if not operator else operator(7)\n",
    "def eight(operator=None): return 8 if not operator else operator(8)\n",
    "def nine(operator=None): return 9 if not operator else operator(9)\n",
    "\n",
    "def plus(num): return lambda x: x + num\n",
    "def minus(num): return lambda x: x - num  \n",
    "def times(num): return lambda x: x * num  \n",
    "def divided_by(num): return lambda x: x // num  "
   ]
  },
  {
   "cell_type": "code",
   "execution_count": 3,
   "id": "0f21bf26",
   "metadata": {},
   "outputs": [
    {
     "data": {
      "text/plain": [
       "15"
      ]
     },
     "execution_count": 3,
     "metadata": {},
     "output_type": "execute_result"
    }
   ],
   "source": [
    "five(times(three()))"
   ]
  }
 ],
 "metadata": {
  "kernelspec": {
   "display_name": "Python 3 (ipykernel)",
   "language": "python",
   "name": "python3"
  },
  "language_info": {
   "codemirror_mode": {
    "name": "ipython",
    "version": 3
   },
   "file_extension": ".py",
   "mimetype": "text/x-python",
   "name": "python",
   "nbconvert_exporter": "python",
   "pygments_lexer": "ipython3",
   "version": "3.9.7"
  }
 },
 "nbformat": 4,
 "nbformat_minor": 5
}
