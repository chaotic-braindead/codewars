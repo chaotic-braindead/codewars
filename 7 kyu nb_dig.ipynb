{
 "cells": [
  {
   "cell_type": "code",
   "execution_count": 1,
   "id": "400d8435",
   "metadata": {},
   "outputs": [
    {
     "data": {
      "text/plain": [
       "'Take an integer n (n >= 0) and a digit d (0 <= d <= 9) as an integer.\\n\\nSquare all numbers k (0 <= k <= n) between 0 and n.\\n\\nCount the numbers of digits d used in the writing of all the k**2.\\n\\nCall nb_dig (or nbDig or ...) the function taking n and d as parameters and returning this count.'"
      ]
     },
     "execution_count": 1,
     "metadata": {},
     "output_type": "execute_result"
    }
   ],
   "source": [
    "\"\"\"Take an integer n (n >= 0) and a digit d (0 <= d <= 9) as an integer.\n",
    "\n",
    "Square all numbers k (0 <= k <= n) between 0 and n.\n",
    "\n",
    "Count the numbers of digits d used in the writing of all the k**2.\n",
    "\n",
    "Call nb_dig (or nbDig or ...) the function taking n and d as parameters and returning this count.\"\"\""
   ]
  },
  {
   "cell_type": "code",
   "execution_count": 37,
   "id": "1630a3dd",
   "metadata": {},
   "outputs": [],
   "source": [
    "def nb_dig(n, d):\n",
    "    lst = [str(i*i) for i in range(n+1)]\n",
    "    count = 0\n",
    "    for i in range(len(lst)):\n",
    "        for j in range(len(lst[i])):\n",
    "            if lst[i][j] == str(d):\n",
    "                count += 1\n",
    "    return count"
   ]
  },
  {
   "cell_type": "code",
   "execution_count": 38,
   "id": "144b4a6b",
   "metadata": {},
   "outputs": [
    {
     "name": "stdout",
     "output_type": "stream",
     "text": [
      "['0', '1', '4', '9', '16', '25', '36', '49', '64', '81', '100', '121', '144', '169', '196', '225', '256', '289', '324', '361', '400', '441', '484', '529', '576', '625']\n"
     ]
    },
    {
     "data": {
      "text/plain": [
       "11"
      ]
     },
     "execution_count": 38,
     "metadata": {},
     "output_type": "execute_result"
    }
   ],
   "source": [
    "nb_dig(25, 1)"
   ]
  },
  {
   "cell_type": "code",
   "execution_count": null,
   "id": "9202cac6",
   "metadata": {},
   "outputs": [],
   "source": [
    "#best solution:\n",
    " #   return sum(str(i*i).count(str(d)) for i in range(n+1))"
   ]
  }
 ],
 "metadata": {
  "kernelspec": {
   "display_name": "Python 3 (ipykernel)",
   "language": "python",
   "name": "python3"
  },
  "language_info": {
   "codemirror_mode": {
    "name": "ipython",
    "version": 3
   },
   "file_extension": ".py",
   "mimetype": "text/x-python",
   "name": "python",
   "nbconvert_exporter": "python",
   "pygments_lexer": "ipython3",
   "version": "3.9.7"
  }
 },
 "nbformat": 4,
 "nbformat_minor": 5
}
