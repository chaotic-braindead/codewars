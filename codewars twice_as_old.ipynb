{
 "cells": [
  {
   "cell_type": "code",
   "execution_count": 1,
   "id": "1ceb3308",
   "metadata": {},
   "outputs": [
    {
     "data": {
      "text/plain": [
       "\"Your function takes two arguments:\\n\\n    current father's age (years)\\n    current age of his son (years)\\n\\nСalculate how many years ago the father was twice as old as his son (or in how many years he will be twice as old).\\n\""
      ]
     },
     "execution_count": 1,
     "metadata": {},
     "output_type": "execute_result"
    }
   ],
   "source": [
    "# Twice as old\n",
    "\"\"\"Your function takes two arguments:\n",
    "\n",
    "    current father's age (years)\n",
    "    current age of his son (years)\n",
    "\n",
    "Сalculate how many years ago the father was twice as old as his son (or in how many years he will be twice as old).\n",
    "\"\"\""
   ]
  },
  {
   "cell_type": "code",
   "execution_count": 4,
   "id": "14a53c01",
   "metadata": {},
   "outputs": [],
   "source": [
    "def twice_as_old(dad_years_old, son_years_old):\n",
    "    return abs(dad_years_old - (son_years_old * 2))"
   ]
  },
  {
   "cell_type": "code",
   "execution_count": 5,
   "id": "9ae5d6b6",
   "metadata": {},
   "outputs": [
    {
     "data": {
      "text/plain": [
       "5"
      ]
     },
     "execution_count": 5,
     "metadata": {},
     "output_type": "execute_result"
    }
   ],
   "source": [
    "twice_as_old(55, 30)"
   ]
  }
 ],
 "metadata": {
  "kernelspec": {
   "display_name": "Python 3 (ipykernel)",
   "language": "python",
   "name": "python3"
  },
  "language_info": {
   "codemirror_mode": {
    "name": "ipython",
    "version": 3
   },
   "file_extension": ".py",
   "mimetype": "text/x-python",
   "name": "python",
   "nbconvert_exporter": "python",
   "pygments_lexer": "ipython3",
   "version": "3.9.7"
  }
 },
 "nbformat": 4,
 "nbformat_minor": 5
}
