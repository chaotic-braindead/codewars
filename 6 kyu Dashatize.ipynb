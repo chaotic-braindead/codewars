{
 "cells": [
  {
   "cell_type": "markdown",
   "id": "d6cd6001",
   "metadata": {},
   "source": [
    "Given a variable n,\n",
    "\n",
    "If n is an integer, Return a string with dash'-'marks before and after each odd integer, but do not begin or end the string with a dash mark. If n is negative, then the negative sign should be removed.\n",
    "\n",
    "If n is not an integer, return an empty value.\n",
    "\n",
    "dashatize(274) -> '2-7-4'\n",
    "dashatize(6815) -> '68-1-5'\n"
   ]
  },
  {
   "cell_type": "code",
   "execution_count": 3,
   "id": "7717f539",
   "metadata": {},
   "outputs": [],
   "source": [
    "def dashatize(n):\n",
    "    if not n:\n",
    "        return str(n)\n",
    "    n = str(abs(n))\n",
    "    string = ''\n",
    "    for i, v in enumerate(n):\n",
    "        if int(v) % 2 != 0:\n",
    "            string += f'{v}-'   \n",
    "        else:\n",
    "            if i+1 <= len(n)-1 and int(n[i+1]) % 2 != 0:\n",
    "                string += f'{v}-'\n",
    "            else: \n",
    "                string += v\n",
    "    return string.rstrip('-')"
   ]
  },
  {
   "cell_type": "code",
   "execution_count": 4,
   "id": "4f88e161",
   "metadata": {},
   "outputs": [
    {
     "data": {
      "text/plain": [
       "'2-7-4'"
      ]
     },
     "execution_count": 4,
     "metadata": {},
     "output_type": "execute_result"
    }
   ],
   "source": [
    "dashatize(274)"
   ]
  },
  {
   "cell_type": "code",
   "execution_count": 5,
   "id": "23b6ea65",
   "metadata": {},
   "outputs": [
    {
     "data": {
      "text/plain": [
       "'1-2-3-1-82-9-4'"
      ]
     },
     "execution_count": 5,
     "metadata": {},
     "output_type": "execute_result"
    }
   ],
   "source": [
    "dashatize(12318294)"
   ]
  },
  {
   "cell_type": "code",
   "execution_count": 6,
   "id": "a7784414",
   "metadata": {},
   "outputs": [
    {
     "data": {
      "text/plain": [
       "'2-9-468-7-4-5-26204-5-7'"
      ]
     },
     "execution_count": 6,
     "metadata": {},
     "output_type": "execute_result"
    }
   ],
   "source": [
    "dashatize(294687452620457)"
   ]
  },
  {
   "cell_type": "code",
   "execution_count": 7,
   "id": "a2b8cf44",
   "metadata": {},
   "outputs": [],
   "source": [
    "def dashatize(num):\n",
    "    try:\n",
    "        return ''.join(['-'+i+'-' if int(i)%2 else i for i in str(abs(num))]).replace('--','-').strip('-')\n",
    "    except:\n",
    "        return 'None'"
   ]
  },
  {
   "cell_type": "code",
   "execution_count": 8,
   "id": "9bd8aa85",
   "metadata": {},
   "outputs": [
    {
     "data": {
      "text/plain": [
       "'2-7-4'"
      ]
     },
     "execution_count": 8,
     "metadata": {},
     "output_type": "execute_result"
    }
   ],
   "source": [
    "dashatize(274)"
   ]
  },
  {
   "cell_type": "code",
   "execution_count": null,
   "id": "50f49723",
   "metadata": {},
   "outputs": [],
   "source": []
  }
 ],
 "metadata": {
  "kernelspec": {
   "display_name": "Python 3 (ipykernel)",
   "language": "python",
   "name": "python3"
  },
  "language_info": {
   "codemirror_mode": {
    "name": "ipython",
    "version": 3
   },
   "file_extension": ".py",
   "mimetype": "text/x-python",
   "name": "python",
   "nbconvert_exporter": "python",
   "pygments_lexer": "ipython3",
   "version": "3.9.7"
  }
 },
 "nbformat": 4,
 "nbformat_minor": 5
}
