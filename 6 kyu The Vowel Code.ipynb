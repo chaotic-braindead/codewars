{
 "cells": [
  {
   "cell_type": "markdown",
   "id": "c0db8810",
   "metadata": {},
   "source": [
    "Step 1: Create a function called encode() to replace all the lowercase vowels in a given string with numbers according to the following pattern:\n",
    "\n",
    "a -> 1\n",
    "e -> 2\n",
    "i -> 3\n",
    "o -> 4\n",
    "u -> 5\n",
    "\n",
    "For example, encode(\"hello\") would return \"h2ll4\". There is no need to worry about uppercase vowels in this kata.\n",
    "\n",
    "Step 2: Now create a function called decode() to turn the numbers back into vowels according to the same pattern shown above.\n",
    "\n",
    "For example, decode(\"h3 th2r2\") would return \"hi there\".\n",
    "\n",
    "For the sake of simplicity, you can assume that any numbers passed into the function will correspond to vowels.\n"
   ]
  },
  {
   "cell_type": "code",
   "execution_count": 1,
   "id": "114c4f1b",
   "metadata": {},
   "outputs": [],
   "source": [
    "def encode(st):\n",
    "    vowels = 'aeiou'\n",
    "    string = ''\n",
    "    for i in st:\n",
    "        if i in vowels:\n",
    "            string += (str(vowels.index(i)+1))\n",
    "        else:\n",
    "            string += i\n",
    "    return string\n",
    "\n",
    "def decode(st):\n",
    "    dict = {1: 'a', 2: 'e', 3:'i', 4:'o', 5:'u'}\n",
    "    string = ''\n",
    "    for i in st:\n",
    "        if i.isdigit():\n",
    "            string += dict[int(i)]\n",
    "        else:\n",
    "            string += i\n",
    "    return string"
   ]
  },
  {
   "cell_type": "code",
   "execution_count": 2,
   "id": "3f4cc2ef",
   "metadata": {},
   "outputs": [
    {
     "data": {
      "text/plain": [
       "'h2ll4'"
      ]
     },
     "execution_count": 2,
     "metadata": {},
     "output_type": "execute_result"
    }
   ],
   "source": [
    "encode('hello')"
   ]
  },
  {
   "cell_type": "code",
   "execution_count": 3,
   "id": "664781ac",
   "metadata": {},
   "outputs": [
    {
     "data": {
      "text/plain": [
       "'hello'"
      ]
     },
     "execution_count": 3,
     "metadata": {},
     "output_type": "execute_result"
    }
   ],
   "source": [
    "decode('h2ll4')"
   ]
  },
  {
   "cell_type": "code",
   "execution_count": 4,
   "id": "fe497329",
   "metadata": {},
   "outputs": [
    {
     "data": {
      "text/plain": [
       "'the quick brown fox jumps over the lazy dog'"
      ]
     },
     "execution_count": 4,
     "metadata": {},
     "output_type": "execute_result"
    }
   ],
   "source": [
    "decode(encode('the quick brown fox jumps over the lazy dog'))"
   ]
  },
  {
   "cell_type": "code",
   "execution_count": 5,
   "id": "93022387",
   "metadata": {},
   "outputs": [],
   "source": [
    "# optimal solution\n",
    "def encode(s, t=str.maketrans(\"aeiou\", \"12345\")):\n",
    "    return s.translate(t)\n",
    "    \n",
    "def decode(s, t=str.maketrans(\"12345\", \"aeiou\")):\n",
    "    return s.translate(t)"
   ]
  },
  {
   "cell_type": "code",
   "execution_count": 6,
   "id": "af485394",
   "metadata": {},
   "outputs": [
    {
     "data": {
      "text/plain": [
       "'th2 q53ck br4wn f4x j5mps 4v2r th2 l1zy d4g'"
      ]
     },
     "execution_count": 6,
     "metadata": {},
     "output_type": "execute_result"
    }
   ],
   "source": [
    "encode('the quick brown fox jumps over the lazy dog')"
   ]
  },
  {
   "cell_type": "code",
   "execution_count": null,
   "id": "f6d9fbc1",
   "metadata": {},
   "outputs": [],
   "source": []
  }
 ],
 "metadata": {
  "kernelspec": {
   "display_name": "Python 3 (ipykernel)",
   "language": "python",
   "name": "python3"
  },
  "language_info": {
   "codemirror_mode": {
    "name": "ipython",
    "version": 3
   },
   "file_extension": ".py",
   "mimetype": "text/x-python",
   "name": "python",
   "nbconvert_exporter": "python",
   "pygments_lexer": "ipython3",
   "version": "3.9.7"
  }
 },
 "nbformat": 4,
 "nbformat_minor": 5
}
