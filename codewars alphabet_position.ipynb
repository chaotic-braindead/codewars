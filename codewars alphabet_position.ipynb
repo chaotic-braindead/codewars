{
 "cells": [
  {
   "cell_type": "code",
   "execution_count": 65,
   "id": "d0eb932b",
   "metadata": {},
   "outputs": [],
   "source": [
    "# codewars \n",
    "#Welcome.\n",
    "\n",
    "#In this kata you are required to, given a string, replace every letter with its position in the alphabet.\n",
    "#If anything in the text isn't a letter, ignore it and don't return it.\n",
    "#\"a\" = 1, \"b\" = 2, etc."
   ]
  },
  {
   "cell_type": "code",
   "execution_count": 66,
   "id": "794f4fea",
   "metadata": {},
   "outputs": [],
   "source": [
    "def alphabet_position(text):\n",
    "    alpha = 'abcdefghijklmnopqrstuvwxyz'\n",
    "    return \" \".join([str(alpha.index(i.lower())+1) for i in text if i in alpha])"
   ]
  },
  {
   "cell_type": "code",
   "execution_count": 67,
   "id": "cb2a3768",
   "metadata": {},
   "outputs": [
    {
     "data": {
      "text/plain": [
       "'8 5 19 21 14 19 5 20 19 5 20 19 1 20 20 23 5 12 22 5 15 3 12 15 3 11'"
      ]
     },
     "execution_count": 67,
     "metadata": {},
     "output_type": "execute_result"
    }
   ],
   "source": [
    "alphabet_position(\"The sunset sets at twelve o' clock.\")"
   ]
  },
  {
   "cell_type": "code",
   "execution_count": 39,
   "id": "af5f1253",
   "metadata": {},
   "outputs": [],
   "source": [
    "def alphabet_position(text):\n",
    "    alpha = 'abcdefghijklmnopqrstuvwxyz'\n",
    "    lst = []\n",
    "    for i in text:\n",
    "        if i in alpha:\n",
    "            lst.append(alpha.index(i))\n",
    "    return lst"
   ]
  }
 ],
 "metadata": {
  "kernelspec": {
   "display_name": "Python 3 (ipykernel)",
   "language": "python",
   "name": "python3"
  },
  "language_info": {
   "codemirror_mode": {
    "name": "ipython",
    "version": 3
   },
   "file_extension": ".py",
   "mimetype": "text/x-python",
   "name": "python",
   "nbconvert_exporter": "python",
   "pygments_lexer": "ipython3",
   "version": "3.9.7"
  }
 },
 "nbformat": 4,
 "nbformat_minor": 5
}
