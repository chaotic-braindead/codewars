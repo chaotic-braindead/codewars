{
 "cells": [
  {
   "cell_type": "code",
   "execution_count": null,
   "id": "e87df949",
   "metadata": {},
   "outputs": [],
   "source": [
    "\"\"\"Mr. Scrooge has a sum of money 'P' that he wants to invest. Before he does, he wants to know how many years \n",
    "'Y' this sum 'P' has to be kept in the bank in order for it to amount to a desired sum of money 'D'.\n",
    "\n",
    "The sum is kept for 'Y' years in the bank where interest 'I' is paid yearly. After paying taxes 'T' for the year \n",
    "the new sum is re-invested.\n",
    "\n",
    "Note to Tax: not the invested principal is taxed, but only the year's accrued interest\"\"\""
   ]
  },
  {
   "cell_type": "code",
   "execution_count": null,
   "id": "e048037a",
   "metadata": {},
   "outputs": [],
   "source": [
    "def calculate_years(principal, interest, tax, desired):\n",
    "    i = 0\n",
    "    while principal < desired:\n",
    "        principal = (principal - (principal * tax)) * interest + principal\n",
    "        i+=1\n",
    "    return i"
   ]
  },
  {
   "cell_type": "code",
   "execution_count": null,
   "id": "29192db8",
   "metadata": {},
   "outputs": [],
   "source": [
    "calculate_years(1000, 0.05, 0.18, 1100)"
   ]
  }
 ],
 "metadata": {
  "kernelspec": {
   "display_name": "Python 3 (ipykernel)",
   "language": "python",
   "name": "python3"
  },
  "language_info": {
   "codemirror_mode": {
    "name": "ipython",
    "version": 3
   },
   "file_extension": ".py",
   "mimetype": "text/x-python",
   "name": "python",
   "nbconvert_exporter": "python",
   "pygments_lexer": "ipython3",
   "version": "3.9.7"
  }
 },
 "nbformat": 4,
 "nbformat_minor": 5
}
