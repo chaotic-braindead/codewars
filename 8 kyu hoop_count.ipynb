{
 "cells": [
  {
   "cell_type": "code",
   "execution_count": 1,
   "id": "73b01a17",
   "metadata": {},
   "outputs": [
    {
     "data": {
      "text/plain": [
       "'Alex just got a new hula hoop, he loves it but feels discouraged because his little brother is better than him\\n\\nWrite a program where Alex can input (n) how many times the hoop goes round and it will return him an encouraging message :)\\n\\n    If Alex gets 10 or more hoops, return the string \"Great, now move on to tricks\".\\n    If he doesn\\'t get 10 hoops, return the string \"Keep at it until you get it\".\\n\\n'"
      ]
     },
     "execution_count": 1,
     "metadata": {},
     "output_type": "execute_result"
    }
   ],
   "source": [
    "\"\"\"Alex just got a new hula hoop, he loves it but feels discouraged because his little brother is better than him\n",
    "\n",
    "Write a program where Alex can input (n) how many times the hoop goes round and it will return him an encouraging message :)\n",
    "\n",
    "    If Alex gets 10 or more hoops, return the string \"Great, now move on to tricks\".\n",
    "    If he doesn't get 10 hoops, return the string \"Keep at it until you get it\".\n",
    "\n",
    "\"\"\""
   ]
  },
  {
   "cell_type": "code",
   "execution_count": null,
   "id": "cfc94f81",
   "metadata": {},
   "outputs": [],
   "source": [
    "def hoop_count(n):\n",
    "    return \"Great, now move on to tricks\" if n >= 10 else \"Keep at it until you get it\""
   ]
  }
 ],
 "metadata": {
  "kernelspec": {
   "display_name": "Python 3 (ipykernel)",
   "language": "python",
   "name": "python3"
  },
  "language_info": {
   "codemirror_mode": {
    "name": "ipython",
    "version": 3
   },
   "file_extension": ".py",
   "mimetype": "text/x-python",
   "name": "python",
   "nbconvert_exporter": "python",
   "pygments_lexer": "ipython3",
   "version": "3.9.7"
  }
 },
 "nbformat": 4,
 "nbformat_minor": 5
}
