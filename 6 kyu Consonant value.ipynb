{
 "cells": [
  {
   "cell_type": "markdown",
   "id": "80db7805",
   "metadata": {},
   "source": [
    "Given a lowercase string that has alphabetic characters only and no spaces, return the highest value of consonant substrings. Consonants are any letters of the alphabet except \"aeiou\".\n",
    "\n",
    "We shall assign the following values: a = 1, b = 2, c = 3, .... z = 26.\n",
    "\n",
    "For example, for the word \"zodiacs\", let's cross out the vowels. We get: \"z o d ia cs\"\n",
    "\n",
    "-- The consonant substrings are: \"z\", \"d\" and \"cs\" and the values are z = 26, d = 4 and cs = 3 + 19 = 22. The highest is 26.\n",
    "solve(\"zodiacs\") = 26\n",
    "\n",
    "For the word \"strength\", solve(\"strength\") = 57\n",
    "-- The consonant substrings are: \"str\" and \"ngth\" with values \"str\" = 19 + 20 + 18 = 57 and \"ngth\" = 14 + 7 + 20 + 8 = 49. The highest is 57.\n"
   ]
  },
  {
   "cell_type": "code",
   "execution_count": 1,
   "id": "8dc283bb",
   "metadata": {},
   "outputs": [],
   "source": [
    "def solve(s):\n",
    "    alpha = 'abcdefghijklmnopqrstuvwxyz'\n",
    "    vowels = 'aeiou'\n",
    "    highest = 0\n",
    "    sum = 0\n",
    "    for value in s:\n",
    "        if value in vowels:\n",
    "            sum = 0\n",
    "        else:\n",
    "            sum += alpha.index(value)+1\n",
    "        if sum > highest:\n",
    "            highest = sum\n",
    "    return highest"
   ]
  },
  {
   "cell_type": "code",
   "execution_count": 2,
   "id": "8b3fc45b",
   "metadata": {},
   "outputs": [
    {
     "data": {
      "text/plain": [
       "26"
      ]
     },
     "execution_count": 2,
     "metadata": {},
     "output_type": "execute_result"
    }
   ],
   "source": [
    "solve(\"zodiac\")"
   ]
  },
  {
   "cell_type": "code",
   "execution_count": 3,
   "id": "e33a33da",
   "metadata": {},
   "outputs": [
    {
     "data": {
      "text/plain": [
       "57"
      ]
     },
     "execution_count": 3,
     "metadata": {},
     "output_type": "execute_result"
    }
   ],
   "source": [
    "solve(\"strength\")"
   ]
  },
  {
   "cell_type": "code",
   "execution_count": null,
   "id": "5549e62e",
   "metadata": {},
   "outputs": [],
   "source": []
  }
 ],
 "metadata": {
  "kernelspec": {
   "display_name": "Python 3 (ipykernel)",
   "language": "python",
   "name": "python3"
  },
  "language_info": {
   "codemirror_mode": {
    "name": "ipython",
    "version": 3
   },
   "file_extension": ".py",
   "mimetype": "text/x-python",
   "name": "python",
   "nbconvert_exporter": "python",
   "pygments_lexer": "ipython3",
   "version": "3.9.7"
  }
 },
 "nbformat": 4,
 "nbformat_minor": 5
}
