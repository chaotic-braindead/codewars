{
 "cells": [
  {
   "cell_type": "markdown",
   "id": "1abca910",
   "metadata": {},
   "source": [
    "A bookseller has lots of books classified in 26 categories labeled A, B, ... Z. Each book has a code c of 3, 4, 5 or more characters. The 1st character of a code is a capital letter which defines the book category.\n",
    "\n",
    "In the bookseller's stocklist each code c is followed by a space and by a positive integer n (int n >= 0) which indicates the quantity of books of this code in stock.\n",
    "\n",
    "For example an extract of a stocklist could be:\n",
    "\n",
    "L = {\"ABART 20\", \"CDXEF 50\", \"BKWRK 25\", \"BTSQZ 89\", \"DRTYM 60\"}.\n",
    "or\n",
    "L = [\"ABART 20\", \"CDXEF 50\", \"BKWRK 25\", \"BTSQZ 89\", \"DRTYM 60\"] or ....\n",
    "\n",
    "You will be given a stocklist (e.g. : L) and a list of categories in capital letters e.g :\n",
    "\n",
    "M = {\"A\", \"B\", \"C\", \"W\"} \n",
    "or\n",
    "M = [\"A\", \"B\", \"C\", \"W\"] or ...\n",
    "\n",
    "and your task is to find all the books of L with codes belonging to each category of M and to sum their quantity according to each category.\n",
    "\n",
    "For the lists L and M of example you have to return the string (in Haskell/Clojure/Racket a list of pairs):\n",
    "\n",
    "(A : 20) - (B : 114) - (C : 50) - (W : 0)\n"
   ]
  },
  {
   "cell_type": "code",
   "execution_count": 3,
   "id": "7151f8b7",
   "metadata": {},
   "outputs": [],
   "source": [
    "def stock_list(listOfArt, listOfCat):\n",
    "    dict = {}\n",
    "    for i in listOfCat:\n",
    "        for j in listOfArt:\n",
    "            if i in j[0]:\n",
    "                lst = j.split(\" \")[-1]\n",
    "                if i not in dict.keys():\n",
    "                    dict[i] = int(lst)\n",
    "                else:\n",
    "                    dict[i] += int(lst)\n",
    "            if i not in j[0] and i not in dict.keys():\n",
    "                dict[i] = 0\n",
    "    \n",
    "    \n",
    "    return \" - \".join(f\"({key} : {value})\" for key, value in dict.items())"
   ]
  },
  {
   "cell_type": "code",
   "execution_count": 4,
   "id": "8e85d917",
   "metadata": {},
   "outputs": [
    {
     "name": "stdout",
     "output_type": "stream",
     "text": [
      "(U : 0) - (V : 0) - (R : 225)\n"
     ]
    }
   ],
   "source": [
    "print(stock_list([\"RMJD 225\", \"CDXE 500\", \"BKWR 250\", \"BTSQ 890\", \"DRTY 600\"], [\"U\", \"V\", \"R\"]))"
   ]
  },
  {
   "cell_type": "code",
   "execution_count": null,
   "id": "0908e27c",
   "metadata": {},
   "outputs": [],
   "source": []
  }
 ],
 "metadata": {
  "kernelspec": {
   "display_name": "Python 3 (ipykernel)",
   "language": "python",
   "name": "python3"
  },
  "language_info": {
   "codemirror_mode": {
    "name": "ipython",
    "version": 3
   },
   "file_extension": ".py",
   "mimetype": "text/x-python",
   "name": "python",
   "nbconvert_exporter": "python",
   "pygments_lexer": "ipython3",
   "version": "3.9.7"
  }
 },
 "nbformat": 4,
 "nbformat_minor": 5
}
