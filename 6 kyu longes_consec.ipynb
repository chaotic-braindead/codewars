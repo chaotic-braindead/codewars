{
 "cells": [
  {
   "cell_type": "code",
   "execution_count": 1,
   "id": "d3a1e102",
   "metadata": {},
   "outputs": [
    {
     "data": {
      "text/plain": [
       "'You are given an array(list) strarr of strings and an integer k.\\nYour task is to return the first longest string consisting of k consecutive strings taken in the array.'"
      ]
     },
     "execution_count": 1,
     "metadata": {},
     "output_type": "execute_result"
    }
   ],
   "source": [
    "\"\"\"You are given an array(list) strarr of strings and an integer k.\n",
    "Your task is to return the first longest string consisting of k consecutive strings taken in the array.\n",
    "ex.\n",
    "strarr = [\"tree\", \"foling\", \"trashy\", \"blue\", \"abcdef\", \"uvwxyz\"], k = 2\n",
    "\n",
    "Concatenate the consecutive strings of strarr by 2, we get:\n",
    "\n",
    "treefoling   (length 10)  concatenation of strarr[0] and strarr[1]\n",
    "folingtrashy (\"      12)  concatenation of strarr[1] and strarr[2]\n",
    "trashyblue   (\"      10)  concatenation of strarr[2] and strarr[3]\n",
    "blueabcdef   (\"      10)  concatenation of strarr[3] and strarr[4]\n",
    "abcdefuvwxyz (\"      12)  concatenation of strarr[4] and strarr[5]\"\"\""
   ]
  },
  {
   "cell_type": "code",
   "execution_count": 54,
   "id": "b442173b",
   "metadata": {},
   "outputs": [],
   "source": [
    "def longest_consec(strarr, k):\n",
    "    lst = [\"\".join(strarr[i:k+i]) for i in range(len(strarr))]\n",
    "    return max(lst, key=len) if k > 0 and k <= len(strarr) else \"\"\n"
   ]
  },
  {
   "cell_type": "code",
   "execution_count": 55,
   "id": "fa142cdc",
   "metadata": {},
   "outputs": [
    {
     "data": {
      "text/plain": [
       "'abigailtheta'"
      ]
     },
     "execution_count": 55,
     "metadata": {},
     "output_type": "execute_result"
    }
   ],
   "source": [
    "longest_consec([\"zone\", \"abigail\", \"theta\", \"form\", \"libe\", \"zas\"], 2)"
   ]
  },
  {
   "cell_type": "code",
   "execution_count": null,
   "id": "3db6d608",
   "metadata": {},
   "outputs": [],
   "source": []
  }
 ],
 "metadata": {
  "kernelspec": {
   "display_name": "Python 3 (ipykernel)",
   "language": "python",
   "name": "python3"
  },
  "language_info": {
   "codemirror_mode": {
    "name": "ipython",
    "version": 3
   },
   "file_extension": ".py",
   "mimetype": "text/x-python",
   "name": "python",
   "nbconvert_exporter": "python",
   "pygments_lexer": "ipython3",
   "version": "3.9.7"
  }
 },
 "nbformat": 4,
 "nbformat_minor": 5
}
