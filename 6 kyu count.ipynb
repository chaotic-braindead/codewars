{
 "cells": [
  {
   "cell_type": "code",
   "execution_count": 1,
   "id": "7b81f3b6",
   "metadata": {},
   "outputs": [
    {
     "data": {
      "text/plain": [
       "\"The main idea is to count all the occurring characters in a string. If you have a string like aba, then the \\nresult should be {'a': 2, 'b': 1}.\\n\\nWhat if the string is empty? Then the result should be empty object literal, {}.\\n\""
      ]
     },
     "execution_count": 1,
     "metadata": {},
     "output_type": "execute_result"
    }
   ],
   "source": [
    "\"\"\"The main idea is to count all the occurring characters in a string. If you have a string like aba, then the \n",
    "result should be {'a': 2, 'b': 1}.\n",
    "\n",
    "What if the string is empty? Then the result should be empty object literal, {}.\n",
    "\"\"\""
   ]
  },
  {
   "cell_type": "code",
   "execution_count": 5,
   "id": "f6ebace9",
   "metadata": {},
   "outputs": [],
   "source": [
    "def count(string):\n",
    "    return {j: string.count(j) for j in string}"
   ]
  },
  {
   "cell_type": "code",
   "execution_count": 7,
   "id": "71d7723b",
   "metadata": {},
   "outputs": [
    {
     "data": {
      "text/plain": [
       "{'h': 1, 'e': 1, 'l': 3, 'o': 2, ' ': 1, 'w': 1, 'r': 1, 'd': 1}"
      ]
     },
     "execution_count": 7,
     "metadata": {},
     "output_type": "execute_result"
    }
   ],
   "source": [
    "count(\"hello world\")"
   ]
  },
  {
   "cell_type": "code",
   "execution_count": null,
   "id": "94a75a00",
   "metadata": {},
   "outputs": [],
   "source": []
  }
 ],
 "metadata": {
  "kernelspec": {
   "display_name": "Python 3 (ipykernel)",
   "language": "python",
   "name": "python3"
  },
  "language_info": {
   "codemirror_mode": {
    "name": "ipython",
    "version": 3
   },
   "file_extension": ".py",
   "mimetype": "text/x-python",
   "name": "python",
   "nbconvert_exporter": "python",
   "pygments_lexer": "ipython3",
   "version": "3.9.7"
  }
 },
 "nbformat": 4,
 "nbformat_minor": 5
}
