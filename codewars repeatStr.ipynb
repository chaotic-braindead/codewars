{
 "cells": [
  {
   "cell_type": "code",
   "execution_count": 1,
   "id": "30119210",
   "metadata": {},
   "outputs": [],
   "source": [
    "#String repeat\n",
    "#Write a function called repeatStr which repeats the given string string exactly n times."
   ]
  },
  {
   "cell_type": "code",
   "execution_count": 11,
   "id": "ef83877b",
   "metadata": {},
   "outputs": [],
   "source": [
    "def repeatStr(repeat, string):\n",
    "    return string * repeat"
   ]
  },
  {
   "cell_type": "code",
   "execution_count": 12,
   "id": "84900395",
   "metadata": {},
   "outputs": [
    {
     "data": {
      "text/plain": [
       "'III'"
      ]
     },
     "execution_count": 12,
     "metadata": {},
     "output_type": "execute_result"
    }
   ],
   "source": [
    "repeatStr(3, \"I\")"
   ]
  }
 ],
 "metadata": {
  "kernelspec": {
   "display_name": "Python 3 (ipykernel)",
   "language": "python",
   "name": "python3"
  },
  "language_info": {
   "codemirror_mode": {
    "name": "ipython",
    "version": 3
   },
   "file_extension": ".py",
   "mimetype": "text/x-python",
   "name": "python",
   "nbconvert_exporter": "python",
   "pygments_lexer": "ipython3",
   "version": "3.9.7"
  }
 },
 "nbformat": 4,
 "nbformat_minor": 5
}
